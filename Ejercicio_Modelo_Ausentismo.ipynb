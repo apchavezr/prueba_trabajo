{
  "cells": [
    {
      "cell_type": "markdown",
      "metadata": {
        "id": "view-in-github",
        "colab_type": "text"
      },
      "source": [
        "<a href=\"https://colab.research.google.com/github/apchavezr/prueba_trabajo/blob/main/Ejercicio_Modelo_Ausentismo.ipynb\" target=\"_parent\"><img src=\"https://colab.research.google.com/assets/colab-badge.svg\" alt=\"Open In Colab\"/></a>"
      ]
    },
    {
      "cell_type": "markdown",
      "source": [
        "# **Ejercicio: evaluación del modelo de predicción de ausentismo**\n",
        "\n",
        "Este ejercicio se puede desarrollar en Google Colab, y simula el entrenamiento y validación de un modelo de clasificación binaria para predecir ausencias laborales.\n",
        "\n",
        "Este ejercicio permite aplicar los conceptos, haciendo énfasis en:\n",
        "\n",
        "* Cómo se calculan y se interpretan los indicadores de desempeño.\n",
        "\n",
        "* Cómo se valida la estabilidad del modelo con cross-validation.\n",
        "\n",
        "* Cómo se analiza la influencia de cada variable predictora."
      ],
      "metadata": {
        "id": "JXGr-qzGmxD9"
      },
      "id": "JXGr-qzGmxD9"
    },
    {
      "cell_type": "code",
      "execution_count": 1,
      "id": "580250bd",
      "metadata": {
        "id": "580250bd"
      },
      "outputs": [],
      "source": [
        "# Instalación (si es necesario en Colab)\n",
        "# !pip install scikit-learn pandas matplotlib seaborn\n",
        "\n",
        "import pandas as pd\n",
        "import numpy as np\n",
        "from sklearn.model_selection import train_test_split, cross_val_score, KFold\n",
        "from sklearn.ensemble import RandomForestClassifier\n",
        "from sklearn.metrics import accuracy_score, recall_score, precision_score, f1_score\n",
        "import matplotlib.pyplot as plt\n",
        "import seaborn as sns\n"
      ]
    },
    {
      "cell_type": "markdown",
      "source": [
        "# **Generación aleatoria de datos**\n",
        "Se usa numpy para generar un DataFrame con 1000 registros, representando a empleados del hospital. Cada registro incluye variables potencialmente relacionadas con la probabilidad de ausentismo:\n",
        "\n",
        "* edad: valores aleatorios entre 22 y 65 años.\n",
        "\n",
        "* tipo_contrato: se asigna aleatoriamente entre tres tipos: 'planta', 'provisional' y 'contratista'.\n",
        "\n",
        "* area: área de trabajo, elegida entre 'urgencias', 'hospitalización' y 'consulta externa'.\n",
        "\n",
        "* historial_incapacidades: número de incapacidades previas (entre 0 y 9).\n",
        "\n",
        "* turno_nocturno: indica si trabaja de noche (1) o no (0).\n",
        "\n",
        "* ausente: variable objetivo (target), que indica si el empleado estuvo ausente o no (1 = ausente, 0 = presente), con una proporción de 70% no ausentes y 30% ausentes, lo que refleja un desbalance de clases, típico en problemas reales."
      ],
      "metadata": {
        "id": "RnAClRAXoS1E"
      },
      "id": "RnAClRAXoS1E"
    },
    {
      "cell_type": "code",
      "execution_count": 2,
      "id": "22cd48e3",
      "metadata": {
        "colab": {
          "base_uri": "https://localhost:8080/",
          "height": 206
        },
        "id": "22cd48e3",
        "outputId": "dc244894-ed80-4d84-ff99-ef29a2672798"
      },
      "outputs": [
        {
          "output_type": "execute_result",
          "data": {
            "text/plain": [
              "   edad tipo_contrato              area  historial_incapacidades  \\\n",
              "0    60        planta         urgencias                        7   \n",
              "1    50   contratista   hospitalización                        1   \n",
              "2    36   provisional  consulta externa                        9   \n",
              "3    64        planta  consulta externa                        3   \n",
              "4    29   provisional   hospitalización                        5   \n",
              "\n",
              "   turno_nocturno  ausente  \n",
              "0               0        0  \n",
              "1               0        0  \n",
              "2               0        0  \n",
              "3               0        0  \n",
              "4               1        1  "
            ],
            "text/html": [
              "\n",
              "  <div id=\"df-882376f5-3d21-4745-89a5-b01948de41d5\" class=\"colab-df-container\">\n",
              "    <div>\n",
              "<style scoped>\n",
              "    .dataframe tbody tr th:only-of-type {\n",
              "        vertical-align: middle;\n",
              "    }\n",
              "\n",
              "    .dataframe tbody tr th {\n",
              "        vertical-align: top;\n",
              "    }\n",
              "\n",
              "    .dataframe thead th {\n",
              "        text-align: right;\n",
              "    }\n",
              "</style>\n",
              "<table border=\"1\" class=\"dataframe\">\n",
              "  <thead>\n",
              "    <tr style=\"text-align: right;\">\n",
              "      <th></th>\n",
              "      <th>edad</th>\n",
              "      <th>tipo_contrato</th>\n",
              "      <th>area</th>\n",
              "      <th>historial_incapacidades</th>\n",
              "      <th>turno_nocturno</th>\n",
              "      <th>ausente</th>\n",
              "    </tr>\n",
              "  </thead>\n",
              "  <tbody>\n",
              "    <tr>\n",
              "      <th>0</th>\n",
              "      <td>60</td>\n",
              "      <td>planta</td>\n",
              "      <td>urgencias</td>\n",
              "      <td>7</td>\n",
              "      <td>0</td>\n",
              "      <td>0</td>\n",
              "    </tr>\n",
              "    <tr>\n",
              "      <th>1</th>\n",
              "      <td>50</td>\n",
              "      <td>contratista</td>\n",
              "      <td>hospitalización</td>\n",
              "      <td>1</td>\n",
              "      <td>0</td>\n",
              "      <td>0</td>\n",
              "    </tr>\n",
              "    <tr>\n",
              "      <th>2</th>\n",
              "      <td>36</td>\n",
              "      <td>provisional</td>\n",
              "      <td>consulta externa</td>\n",
              "      <td>9</td>\n",
              "      <td>0</td>\n",
              "      <td>0</td>\n",
              "    </tr>\n",
              "    <tr>\n",
              "      <th>3</th>\n",
              "      <td>64</td>\n",
              "      <td>planta</td>\n",
              "      <td>consulta externa</td>\n",
              "      <td>3</td>\n",
              "      <td>0</td>\n",
              "      <td>0</td>\n",
              "    </tr>\n",
              "    <tr>\n",
              "      <th>4</th>\n",
              "      <td>29</td>\n",
              "      <td>provisional</td>\n",
              "      <td>hospitalización</td>\n",
              "      <td>5</td>\n",
              "      <td>1</td>\n",
              "      <td>1</td>\n",
              "    </tr>\n",
              "  </tbody>\n",
              "</table>\n",
              "</div>\n",
              "    <div class=\"colab-df-buttons\">\n",
              "\n",
              "  <div class=\"colab-df-container\">\n",
              "    <button class=\"colab-df-convert\" onclick=\"convertToInteractive('df-882376f5-3d21-4745-89a5-b01948de41d5')\"\n",
              "            title=\"Convert this dataframe to an interactive table.\"\n",
              "            style=\"display:none;\">\n",
              "\n",
              "  <svg xmlns=\"http://www.w3.org/2000/svg\" height=\"24px\" viewBox=\"0 -960 960 960\">\n",
              "    <path d=\"M120-120v-720h720v720H120Zm60-500h600v-160H180v160Zm220 220h160v-160H400v160Zm0 220h160v-160H400v160ZM180-400h160v-160H180v160Zm440 0h160v-160H620v160ZM180-180h160v-160H180v160Zm440 0h160v-160H620v160Z\"/>\n",
              "  </svg>\n",
              "    </button>\n",
              "\n",
              "  <style>\n",
              "    .colab-df-container {\n",
              "      display:flex;\n",
              "      gap: 12px;\n",
              "    }\n",
              "\n",
              "    .colab-df-convert {\n",
              "      background-color: #E8F0FE;\n",
              "      border: none;\n",
              "      border-radius: 50%;\n",
              "      cursor: pointer;\n",
              "      display: none;\n",
              "      fill: #1967D2;\n",
              "      height: 32px;\n",
              "      padding: 0 0 0 0;\n",
              "      width: 32px;\n",
              "    }\n",
              "\n",
              "    .colab-df-convert:hover {\n",
              "      background-color: #E2EBFA;\n",
              "      box-shadow: 0px 1px 2px rgba(60, 64, 67, 0.3), 0px 1px 3px 1px rgba(60, 64, 67, 0.15);\n",
              "      fill: #174EA6;\n",
              "    }\n",
              "\n",
              "    .colab-df-buttons div {\n",
              "      margin-bottom: 4px;\n",
              "    }\n",
              "\n",
              "    [theme=dark] .colab-df-convert {\n",
              "      background-color: #3B4455;\n",
              "      fill: #D2E3FC;\n",
              "    }\n",
              "\n",
              "    [theme=dark] .colab-df-convert:hover {\n",
              "      background-color: #434B5C;\n",
              "      box-shadow: 0px 1px 3px 1px rgba(0, 0, 0, 0.15);\n",
              "      filter: drop-shadow(0px 1px 2px rgba(0, 0, 0, 0.3));\n",
              "      fill: #FFFFFF;\n",
              "    }\n",
              "  </style>\n",
              "\n",
              "    <script>\n",
              "      const buttonEl =\n",
              "        document.querySelector('#df-882376f5-3d21-4745-89a5-b01948de41d5 button.colab-df-convert');\n",
              "      buttonEl.style.display =\n",
              "        google.colab.kernel.accessAllowed ? 'block' : 'none';\n",
              "\n",
              "      async function convertToInteractive(key) {\n",
              "        const element = document.querySelector('#df-882376f5-3d21-4745-89a5-b01948de41d5');\n",
              "        const dataTable =\n",
              "          await google.colab.kernel.invokeFunction('convertToInteractive',\n",
              "                                                    [key], {});\n",
              "        if (!dataTable) return;\n",
              "\n",
              "        const docLinkHtml = 'Like what you see? Visit the ' +\n",
              "          '<a target=\"_blank\" href=https://colab.research.google.com/notebooks/data_table.ipynb>data table notebook</a>'\n",
              "          + ' to learn more about interactive tables.';\n",
              "        element.innerHTML = '';\n",
              "        dataTable['output_type'] = 'display_data';\n",
              "        await google.colab.output.renderOutput(dataTable, element);\n",
              "        const docLink = document.createElement('div');\n",
              "        docLink.innerHTML = docLinkHtml;\n",
              "        element.appendChild(docLink);\n",
              "      }\n",
              "    </script>\n",
              "  </div>\n",
              "\n",
              "\n",
              "    <div id=\"df-214bc36b-e98b-478a-8cbc-cdeb34cbb8bc\">\n",
              "      <button class=\"colab-df-quickchart\" onclick=\"quickchart('df-214bc36b-e98b-478a-8cbc-cdeb34cbb8bc')\"\n",
              "                title=\"Suggest charts\"\n",
              "                style=\"display:none;\">\n",
              "\n",
              "<svg xmlns=\"http://www.w3.org/2000/svg\" height=\"24px\"viewBox=\"0 0 24 24\"\n",
              "     width=\"24px\">\n",
              "    <g>\n",
              "        <path d=\"M19 3H5c-1.1 0-2 .9-2 2v14c0 1.1.9 2 2 2h14c1.1 0 2-.9 2-2V5c0-1.1-.9-2-2-2zM9 17H7v-7h2v7zm4 0h-2V7h2v10zm4 0h-2v-4h2v4z\"/>\n",
              "    </g>\n",
              "</svg>\n",
              "      </button>\n",
              "\n",
              "<style>\n",
              "  .colab-df-quickchart {\n",
              "      --bg-color: #E8F0FE;\n",
              "      --fill-color: #1967D2;\n",
              "      --hover-bg-color: #E2EBFA;\n",
              "      --hover-fill-color: #174EA6;\n",
              "      --disabled-fill-color: #AAA;\n",
              "      --disabled-bg-color: #DDD;\n",
              "  }\n",
              "\n",
              "  [theme=dark] .colab-df-quickchart {\n",
              "      --bg-color: #3B4455;\n",
              "      --fill-color: #D2E3FC;\n",
              "      --hover-bg-color: #434B5C;\n",
              "      --hover-fill-color: #FFFFFF;\n",
              "      --disabled-bg-color: #3B4455;\n",
              "      --disabled-fill-color: #666;\n",
              "  }\n",
              "\n",
              "  .colab-df-quickchart {\n",
              "    background-color: var(--bg-color);\n",
              "    border: none;\n",
              "    border-radius: 50%;\n",
              "    cursor: pointer;\n",
              "    display: none;\n",
              "    fill: var(--fill-color);\n",
              "    height: 32px;\n",
              "    padding: 0;\n",
              "    width: 32px;\n",
              "  }\n",
              "\n",
              "  .colab-df-quickchart:hover {\n",
              "    background-color: var(--hover-bg-color);\n",
              "    box-shadow: 0 1px 2px rgba(60, 64, 67, 0.3), 0 1px 3px 1px rgba(60, 64, 67, 0.15);\n",
              "    fill: var(--button-hover-fill-color);\n",
              "  }\n",
              "\n",
              "  .colab-df-quickchart-complete:disabled,\n",
              "  .colab-df-quickchart-complete:disabled:hover {\n",
              "    background-color: var(--disabled-bg-color);\n",
              "    fill: var(--disabled-fill-color);\n",
              "    box-shadow: none;\n",
              "  }\n",
              "\n",
              "  .colab-df-spinner {\n",
              "    border: 2px solid var(--fill-color);\n",
              "    border-color: transparent;\n",
              "    border-bottom-color: var(--fill-color);\n",
              "    animation:\n",
              "      spin 1s steps(1) infinite;\n",
              "  }\n",
              "\n",
              "  @keyframes spin {\n",
              "    0% {\n",
              "      border-color: transparent;\n",
              "      border-bottom-color: var(--fill-color);\n",
              "      border-left-color: var(--fill-color);\n",
              "    }\n",
              "    20% {\n",
              "      border-color: transparent;\n",
              "      border-left-color: var(--fill-color);\n",
              "      border-top-color: var(--fill-color);\n",
              "    }\n",
              "    30% {\n",
              "      border-color: transparent;\n",
              "      border-left-color: var(--fill-color);\n",
              "      border-top-color: var(--fill-color);\n",
              "      border-right-color: var(--fill-color);\n",
              "    }\n",
              "    40% {\n",
              "      border-color: transparent;\n",
              "      border-right-color: var(--fill-color);\n",
              "      border-top-color: var(--fill-color);\n",
              "    }\n",
              "    60% {\n",
              "      border-color: transparent;\n",
              "      border-right-color: var(--fill-color);\n",
              "    }\n",
              "    80% {\n",
              "      border-color: transparent;\n",
              "      border-right-color: var(--fill-color);\n",
              "      border-bottom-color: var(--fill-color);\n",
              "    }\n",
              "    90% {\n",
              "      border-color: transparent;\n",
              "      border-bottom-color: var(--fill-color);\n",
              "    }\n",
              "  }\n",
              "</style>\n",
              "\n",
              "      <script>\n",
              "        async function quickchart(key) {\n",
              "          const quickchartButtonEl =\n",
              "            document.querySelector('#' + key + ' button');\n",
              "          quickchartButtonEl.disabled = true;  // To prevent multiple clicks.\n",
              "          quickchartButtonEl.classList.add('colab-df-spinner');\n",
              "          try {\n",
              "            const charts = await google.colab.kernel.invokeFunction(\n",
              "                'suggestCharts', [key], {});\n",
              "          } catch (error) {\n",
              "            console.error('Error during call to suggestCharts:', error);\n",
              "          }\n",
              "          quickchartButtonEl.classList.remove('colab-df-spinner');\n",
              "          quickchartButtonEl.classList.add('colab-df-quickchart-complete');\n",
              "        }\n",
              "        (() => {\n",
              "          let quickchartButtonEl =\n",
              "            document.querySelector('#df-214bc36b-e98b-478a-8cbc-cdeb34cbb8bc button');\n",
              "          quickchartButtonEl.style.display =\n",
              "            google.colab.kernel.accessAllowed ? 'block' : 'none';\n",
              "        })();\n",
              "      </script>\n",
              "    </div>\n",
              "\n",
              "    </div>\n",
              "  </div>\n"
            ],
            "application/vnd.google.colaboratory.intrinsic+json": {
              "type": "dataframe",
              "variable_name": "df",
              "summary": "{\n  \"name\": \"df\",\n  \"rows\": 1000,\n  \"fields\": [\n    {\n      \"column\": \"edad\",\n      \"properties\": {\n        \"dtype\": \"number\",\n        \"std\": 12,\n        \"min\": 22,\n        \"max\": 64,\n        \"num_unique_values\": 43,\n        \"samples\": [\n          52,\n          58,\n          28\n        ],\n        \"semantic_type\": \"\",\n        \"description\": \"\"\n      }\n    },\n    {\n      \"column\": \"tipo_contrato\",\n      \"properties\": {\n        \"dtype\": \"category\",\n        \"num_unique_values\": 3,\n        \"samples\": [\n          \"planta\",\n          \"contratista\",\n          \"provisional\"\n        ],\n        \"semantic_type\": \"\",\n        \"description\": \"\"\n      }\n    },\n    {\n      \"column\": \"area\",\n      \"properties\": {\n        \"dtype\": \"category\",\n        \"num_unique_values\": 3,\n        \"samples\": [\n          \"urgencias\",\n          \"hospitalizaci\\u00f3n\",\n          \"consulta externa\"\n        ],\n        \"semantic_type\": \"\",\n        \"description\": \"\"\n      }\n    },\n    {\n      \"column\": \"historial_incapacidades\",\n      \"properties\": {\n        \"dtype\": \"number\",\n        \"std\": 2,\n        \"min\": 0,\n        \"max\": 9,\n        \"num_unique_values\": 10,\n        \"samples\": [\n          4,\n          1,\n          6\n        ],\n        \"semantic_type\": \"\",\n        \"description\": \"\"\n      }\n    },\n    {\n      \"column\": \"turno_nocturno\",\n      \"properties\": {\n        \"dtype\": \"number\",\n        \"std\": 0,\n        \"min\": 0,\n        \"max\": 1,\n        \"num_unique_values\": 2,\n        \"samples\": [\n          1,\n          0\n        ],\n        \"semantic_type\": \"\",\n        \"description\": \"\"\n      }\n    },\n    {\n      \"column\": \"ausente\",\n      \"properties\": {\n        \"dtype\": \"number\",\n        \"std\": 0,\n        \"min\": 0,\n        \"max\": 1,\n        \"num_unique_values\": 2,\n        \"samples\": [\n          1,\n          0\n        ],\n        \"semantic_type\": \"\",\n        \"description\": \"\"\n      }\n    }\n  ]\n}"
            }
          },
          "metadata": {},
          "execution_count": 2
        }
      ],
      "source": [
        "# Simulamos un dataset (en un caso real, se cargan los datos)\n",
        "np.random.seed(42)\n",
        "n = 1000\n",
        "df = pd.DataFrame({\n",
        "    'edad': np.random.randint(22, 65, size=n),\n",
        "    'tipo_contrato': np.random.choice(['planta', 'provisional', 'contratista'], size=n),\n",
        "    'area': np.random.choice(['urgencias', 'hospitalización', 'consulta externa'], size=n),\n",
        "    'historial_incapacidades': np.random.randint(0, 10, size=n),\n",
        "    'turno_nocturno': np.random.choice([0, 1], size=n),\n",
        "    'ausente': np.random.choice([0, 1], size=n, p=[0.7, 0.3])  # Desbalanceado\n",
        "})\n",
        "df.head()\n"
      ]
    },
    {
      "cell_type": "code",
      "execution_count": 4,
      "id": "1b8dca43",
      "metadata": {
        "colab": {
          "base_uri": "https://localhost:8080/"
        },
        "id": "1b8dca43",
        "outputId": "d093a5f1-d0ac-45b9-f9ea-265a85fe6be0"
      },
      "outputs": [
        {
          "output_type": "stream",
          "name": "stdout",
          "text": [
            "(800, 7) (200, 7)\n"
          ]
        }
      ],
      "source": [
        "# Codificación de variables categóricas\n",
        "df_encoded = pd.get_dummies(df, drop_first=True)\n",
        "\n",
        "# Separar variables predictoras y variable objetivo\n",
        "X = df_encoded.drop('ausente', axis=1)\n",
        "y = df_encoded['ausente']\n",
        "\n",
        "# División en entrenamiento y prueba\n",
        "X_train, X_test, y_train, y_test = train_test_split(X, y, test_size=0.2, random_state=42)\n",
        "print(X_train.shape, X_test.shape)\n"
      ]
    },
    {
      "cell_type": "markdown",
      "source": [
        "* (800, 7): el conjunto de entrenamiento tiene 800 filas (observaciones) y 7 columnas (variables predictoras).\n",
        "\n",
        "* (200, 7): el conjunto de prueba tiene 200 filas y las mismas 7 variables predictoras.\n",
        "\n",
        "Este resultado confirma que la codificación de variables categóricas funcionó correctamente y que ahora se dispone de un conjunto de datos numérico y estructurado."
      ],
      "metadata": {
        "id": "BEjxBYx5qIDD"
      },
      "id": "BEjxBYx5qIDD"
    },
    {
      "cell_type": "code",
      "execution_count": 5,
      "id": "8aad365b",
      "metadata": {
        "colab": {
          "base_uri": "https://localhost:8080/"
        },
        "id": "8aad365b",
        "outputId": "bb86e7c0-c1f1-4b71-827e-fc13b6a4a21c"
      },
      "outputs": [
        {
          "output_type": "stream",
          "name": "stdout",
          "text": [
            "Precisión: 0.65\n",
            "Recall: 0.09\n",
            "Precisión: 0.13\n",
            "F1-score: 0.10\n"
          ]
        }
      ],
      "source": [
        "# Entrenamiento con Random Forest\n",
        "modelo = RandomForestClassifier(n_estimators=100, random_state=42)\n",
        "modelo.fit(X_train, y_train)\n",
        "y_pred = modelo.predict(X_test)\n",
        "\n",
        "# Cálculo de métricas\n",
        "accuracy = accuracy_score(y_test, y_pred)\n",
        "recall = recall_score(y_test, y_pred)\n",
        "precision = precision_score(y_test, y_pred)\n",
        "f1 = f1_score(y_test, y_pred)\n",
        "\n",
        "print(f\"Precisión: {accuracy:.2f}\")\n",
        "print(f\"Recall: {recall:.2f}\")\n",
        "print(f\"Precisión: {precision:.2f}\")\n",
        "print(f\"F1-score: {f1:.2f}\")\n"
      ]
    },
    {
      "cell_type": "markdown",
      "source": [
        "1. Precisión (Accuracy = 0.65):\n",
        "\n",
        "* El 65% de las predicciones totales (ausente o no ausente) fueron correctas.\n",
        "\n",
        "*  Sin embargo, esta métrica puede ser engañosa cuando las clases están desbalanceadas (como en este caso, con solo el 30% de ausentes), ya que el modelo puede acertar simplemente prediciendo la clase mayoritaria (no ausente).\n",
        "\n",
        "1. Recall (Sensibilidad = 0.09):\n",
        "\n",
        "* De todos los empleados que realmente estuvieron ausentes, solo el 9% fueron identificados correctamente por el modelo.\n",
        "\n",
        "* Este valor es muy bajo, lo cual es problemático si el objetivo es detectar posibles ausencias.\n",
        "\n",
        "1. Precisión (Precision = 0.13):\n",
        "\n",
        "* Solo el 13% de los empleados que el modelo predijo como ausentes realmente lo estuvieron.\n",
        "\n",
        "* Indica un alto número de falsos positivos, es decir, empleados mal clasificados como ausentes.\n",
        "\n",
        "1. F1-score = 0.10:\n",
        "\n",
        "*  Es la media armónica entre precisión y recall, y refleja un equilibrio general deficiente del modelo para la clase minoritaria (\"ausente\").\n",
        "\n",
        "*  Un valor de 0.10 indica que el modelo no logra balancear adecuadamente la detección de verdaderos positivos y la evitación de falsos positivos."
      ],
      "metadata": {
        "id": "piL1o7i0qdM1"
      },
      "id": "piL1o7i0qdM1"
    },
    {
      "cell_type": "code",
      "execution_count": 6,
      "id": "4196ff9a",
      "metadata": {
        "colab": {
          "base_uri": "https://localhost:8080/"
        },
        "id": "4196ff9a",
        "outputId": "8846071f-1a0c-471d-fd31-2a8567338464"
      },
      "outputs": [
        {
          "output_type": "stream",
          "name": "stdout",
          "text": [
            "F1-scores en validación cruzada: [0.1686747  0.21978022 0.24742268 0.24489796 0.24096386]\n",
            "F1 promedio: 0.22 ± 0.03\n"
          ]
        }
      ],
      "source": [
        "# Validación con K-Fold\n",
        "kfold = KFold(n_splits=5, shuffle=True, random_state=42)\n",
        "f1_scores = cross_val_score(modelo, X, y, cv=kfold, scoring='f1')\n",
        "\n",
        "print(\"F1-scores en validación cruzada:\", f1_scores)\n",
        "print(f\"F1 promedio: {f1_scores.mean():.2f} ± {f1_scores.std():.2f}\")\n"
      ]
    },
    {
      "cell_type": "markdown",
      "source": [
        "1. F1 promedio = 0.22:\n",
        "\n",
        "* El modelo tiene un bajo rendimiento al predecir correctamente los casos positivos (ausentismo).\n",
        "\n",
        "* Aunque mejora respecto al F1-score individual observado anteriormente (≈ 0.10), aún indica un rendimiento limitado en detectar casos ausentes con precisión y sensibilidad al mismo tiempo.\n",
        "\n",
        "1. Desviación estándar = ±0.03:\n",
        "\n",
        "* Refleja que el modelo tiene un desempeño relativamente estable entre las distintas particiones del conjunto de datos.\n",
        "\n",
        "* No hay grandes variaciones, lo que sugiere consistencia en la pobre capacidad predictiva."
      ],
      "metadata": {
        "id": "9q7fu9_d0ZZ3"
      },
      "id": "9q7fu9_d0ZZ3"
    },
    {
      "cell_type": "code",
      "execution_count": 7,
      "id": "df5d2c09",
      "metadata": {
        "colab": {
          "base_uri": "https://localhost:8080/",
          "height": 607
        },
        "id": "df5d2c09",
        "outputId": "c6830d89-3ea2-4924-8eff-7cd4ea559a03"
      },
      "outputs": [
        {
          "output_type": "display_data",
          "data": {
            "text/plain": [
              "<Figure size 800x600 with 1 Axes>"
            ],
            "image/png": "[encoded data removed]"
          },
          "metadata": {}
        }
      ],
      "source": [
        "# Visualización de importancia de variables\n",
        "importancias = modelo.feature_importances_\n",
        "features = X.columns\n",
        "feat_imp = pd.Series(importancias, index=features).sort_values(ascending=True)\n",
        "\n",
        "plt.figure(figsize=(8,6))\n",
        "feat_imp.plot(kind='barh')\n",
        "plt.title(\"Importancia de variables\")\n",
        "plt.xlabel(\"Score\")\n",
        "plt.tight_layout()\n",
        "plt.show()\n"
      ]
    },
    {
      "cell_type": "markdown",
      "source": [
        " **Variables con mayor importancia:**\n",
        "\n",
        "1. edad (~0.53):\n",
        "\n",
        "    * Es la variable más influyente.\n",
        "\n",
        "    *  Esto sugiere que la edad tiene una relación significativa con el ausentismo laboral, posiblemente indicando que ciertos grupos etarios (por ejemplo, mayores de 50 años) presentan patrones de ausencia más frecuentes.\n",
        "\n",
        "2. historial_incapacidades (~0.30):\n",
        "\n",
        "    * También aporta fuertemente al modelo.\n",
        "\n",
        "    * Es lógico pensar que las personas con más incapacidades previas tienen una mayor probabilidad de ausentismo futuro.\n",
        "\n",
        "**Variables con baja importancia:**\n",
        "\n",
        "3. turno_nocturno, area_hospitalización, tipo_contrato_provisional, area_urgencias, tipo_contrato_planta (~<0.05):\n",
        "\n",
        "  * Estas variables tienen muy poco peso en la toma de decisiones del modelo.\n",
        "\n",
        "  * Esto puede deberse a que su distribución no varía significativamente entre las clases (ausente/no ausente), o a que su impacto real sobre la variable objetivo es limitado."
      ],
      "metadata": {
        "id": "mzIDcj451QRs"
      },
      "id": "mzIDcj451QRs"
    }
  ],
  "metadata": {
    "colab": {
      "provenance": [],
      "include_colab_link": true
    },
    "language_info": {
      "name": "python"
    },
    "kernelspec": {
      "name": "python3",
      "display_name": "Python 3"
    }
  },
  "nbformat": 4,
  "nbformat_minor": 5
}