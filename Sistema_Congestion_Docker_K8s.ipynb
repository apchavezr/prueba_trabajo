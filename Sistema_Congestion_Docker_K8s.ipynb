{
  "cells": [
    {
      "cell_type": "markdown",
      "metadata": {
        "id": "view-in-github",
        "colab_type": "text"
      },
      "source": [
        "<a href=\"https://colab.research.google.com/github/apchavezr/prueba_trabajo/blob/main/Sistema_Congestion_Docker_K8s.ipynb\" target=\"_parent\"><img src=\"https://colab.research.google.com/assets/colab-badge.svg\" alt=\"Open In Colab\"/></a>"
      ]
    },
    {
      "cell_type": "markdown",
      "id": "399084ff",
      "metadata": {
        "id": "399084ff"
      },
      "source": [
        "# Sistema de predicción de congestión vehicular con Docker y Kubernetes"
      ]
    },
    {
      "cell_type": "markdown",
      "id": "6e9c5b5b",
      "metadata": {
        "id": "6e9c5b5b"
      },
      "source": [
        "Este cuaderno desarrolla un sistema básico de predicción de congestión vehicular usando un modelo de clasificación en Python.\n",
        "Se encapsula con Docker y se despliega en Kubernetes para escalar automáticamente según la demanda.\n",
        "\n",
        "El flujo es el siguiente:\n",
        "1. Entrenar modelo con datos simulados.\n",
        "2. Crear API REST con Flask.\n",
        "3. Contenerizar con Docker.\n",
        "4. Desplegar en Kubernetes con autoescalado."
      ]
    },
    {
      "cell_type": "markdown",
      "id": "2358fb7c",
      "metadata": {
        "id": "2358fb7c"
      },
      "source": [
        "## Paso 1: Simulación de datos y entrenamiento del modelo"
      ]
    },
    {
      "cell_type": "code",
      "execution_count": 1,
      "id": "3848cd31",
      "metadata": {
        "colab": {
          "base_uri": "https://localhost:8080/"
        },
        "id": "3848cd31",
        "outputId": "03730707-438c-4145-b404-e33455527f97"
      },
      "outputs": [
        {
          "output_type": "stream",
          "name": "stdout",
          "text": [
            "Modelo entrenado y guardado.\n"
          ]
        }
      ],
      "source": [
        "# Simulación de datos de tráfico\n",
        "import pandas as pd\n",
        "import numpy as np\n",
        "from sklearn.ensemble import RandomForestClassifier\n",
        "import joblib\n",
        "\n",
        "np.random.seed(42)\n",
        "n = 500\n",
        "\n",
        "# Variables: hora del día, día de la semana, clima, eventos, congestión (0: baja, 1: alta)\n",
        "df = pd.DataFrame({\n",
        "    'hora': np.random.randint(0, 24, size=n),\n",
        "    'dia_semana': np.random.randint(0, 7, size=n),\n",
        "    'lluvia': np.random.randint(0, 2, size=n),\n",
        "    'evento_masivo': np.random.randint(0, 2, size=n)\n",
        "})\n",
        "\n",
        "# Simular variable objetivo\n",
        "df['congestion'] = ((df['hora'].between(7,9)) | (df['hora'].between(17,19))) & (df['lluvia'] | df['evento_masivo'])\n",
        "df['congestion'] = df['congestion'].astype(int)\n",
        "\n",
        "# Entrenar modelo\n",
        "X = df.drop(columns='congestion')\n",
        "y = df['congestion']\n",
        "modelo = RandomForestClassifier(n_estimators=100, random_state=42)\n",
        "modelo.fit(X, y)\n",
        "\n",
        "# Guardar modelo\n",
        "joblib.dump(modelo, 'modelo_congestion.pkl')\n",
        "print(\"Modelo entrenado y guardado.\")"
      ]
    },
    {
      "cell_type": "markdown",
      "id": "8b70d534",
      "metadata": {
        "id": "8b70d534"
      },
      "source": [
        "## Paso 2: API Flask"
      ]
    },
    {
      "cell_type": "code",
      "execution_count": null,
      "id": "798cc72c",
      "metadata": {
        "id": "798cc72c"
      },
      "outputs": [],
      "source": [
        "# app.py\n",
        "from flask import Flask, request, jsonify\n",
        "import pandas as pd\n",
        "import joblib\n",
        "\n",
        "app = Flask(__name__)\n",
        "modelo = joblib.load('modelo_congestion.pkl')\n",
        "\n",
        "@app.route('/predecir', methods=['POST'])\n",
        "def predecir():\n",
        "    datos = request.get_json()\n",
        "    df = pd.DataFrame(datos)\n",
        "    pred = modelo.predict(df)\n",
        "    return jsonify(pred.tolist())\n",
        "\n",
        "if __name__ == '__main__':\n",
        "    app.run(host='0.0.0.0', port=5000)"
      ]
    },
    {
      "cell_type": "markdown",
      "id": "d2eb3707",
      "metadata": {
        "id": "d2eb3707"
      },
      "source": [
        "## Paso 3: Dependencias (requirements.txt)"
      ]
    },
    {
      "cell_type": "code",
      "execution_count": null,
      "id": "d8995ef2",
      "metadata": {
        "id": "d8995ef2"
      },
      "outputs": [],
      "source": [
        "flask\n",
        "scikit-learn\n",
        "pandas\n",
        "joblib"
      ]
    },
    {
      "cell_type": "markdown",
      "id": "1a700e6a",
      "metadata": {
        "id": "1a700e6a"
      },
      "source": [
        "## Paso 4: Dockerfile"
      ]
    },
    {
      "cell_type": "code",
      "execution_count": null,
      "id": "f4289b29",
      "metadata": {
        "id": "f4289b29"
      },
      "outputs": [],
      "source": [
        "# Dockerfile\n",
        "FROM python:3.10\n",
        "WORKDIR /app\n",
        "COPY requirements.txt .\n",
        "RUN pip install -r requirements.txt\n",
        "COPY . .\n",
        "RUN python train_model.py\n",
        "EXPOSE 5000\n",
        "CMD [\"python\", \"app.py\"]"
      ]
    },
    {
      "cell_type": "markdown",
      "id": "25e43c7a",
      "metadata": {
        "id": "25e43c7a"
      },
      "source": [
        "## Paso 5: Despliegue en Kubernetes (YAML básico con autoescalado)"
      ]
    },
    {
      "cell_type": "code",
      "execution_count": null,
      "id": "4af5f649",
      "metadata": {
        "id": "4af5f649"
      },
      "outputs": [],
      "source": [
        "# deployment.yaml\n",
        "apiVersion: apps/v1\n",
        "kind: Deployment\n",
        "metadata:\n",
        "  name: congestion-app\n",
        "spec:\n",
        "  replicas: 2\n",
        "  selector:\n",
        "    matchLabels:\n",
        "      app: congestion\n",
        "  template:\n",
        "    metadata:\n",
        "      labels:\n",
        "        app: congestion\n",
        "    spec:\n",
        "      containers:\n",
        "      - name: congestion\n",
        "        image: tu_usuario/congestion:latest\n",
        "        ports:\n",
        "        - containerPort: 5000\n",
        "---\n",
        "apiVersion: v1\n",
        "kind: Service\n",
        "metadata:\n",
        "  name: congestion-service\n",
        "spec:\n",
        "  selector:\n",
        "    app: congestion\n",
        "  ports:\n",
        "    - protocol: TCP\n",
        "      port: 80\n",
        "      targetPort: 5000\n",
        "  type: LoadBalancer\n",
        "---\n",
        "apiVersion: autoscaling/v2\n",
        "kind: HorizontalPodAutoscaler\n",
        "metadata:\n",
        "  name: congestion-hpa\n",
        "spec:\n",
        "  scaleTargetRef:\n",
        "    apiVersion: apps/v1\n",
        "    kind: Deployment\n",
        "    name: congestion-app\n",
        "  minReplicas: 2\n",
        "  maxReplicas: 10\n",
        "  metrics:\n",
        "  - type: Resource\n",
        "    resource:\n",
        "      name: cpu\n",
        "      target:\n",
        "        type: Utilization\n",
        "        averageUtilization: 50"
      ]
    },
    {
      "cell_type": "markdown",
      "id": "7fe77b0c",
      "metadata": {
        "id": "7fe77b0c"
      },
      "source": [
        "## ✅ Conclusión\n",
        "\n",
        "Este sistema de predicción vehicular demuestra cómo combinar Python, Docker y Kubernetes para escalar automáticamente en función de la demanda. Puede adaptarse fácilmente a un entorno real conectándose a sensores de tráfico y bases de datos urbanas."
      ]
    }
  ],
  "metadata": {
    "colab": {
      "provenance": [],
      "include_colab_link": true
    },
    "language_info": {
      "name": "python"
    },
    "kernelspec": {
      "name": "python3",
      "display_name": "Python 3"
    }
  },
  "nbformat": 4,
  "nbformat_minor": 5
}