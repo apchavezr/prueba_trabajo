{
  "cells": [
    {
      "cell_type": "markdown",
      "metadata": {
        "id": "view-in-github",
        "colab_type": "text"
      },
      "source": [
        "<a href=\"https://colab.research.google.com/github/apchavezr/prueba_trabajo/blob/main/Modelo_Regression_Docker.ipynb\" target=\"_parent\"><img src=\"https://colab.research.google.com/assets/colab-badge.svg\" alt=\"Open In Colab\"/></a>"
      ]
    },
    {
      "cell_type": "markdown",
      "id": "391d8846",
      "metadata": {
        "id": "391d8846"
      },
      "source": [
        "# Contenerización de un modelo de regresión lineal con Docker\n",
        "\n",
        "Este cuaderno muestra cómo encapsular un modelo de *machine learning* (regresión lineal) usando Docker, permitiendo su ejecución consistente en desarrollo, pruebas y producción."
      ]
    },
    {
      "cell_type": "markdown",
      "id": "526eccdd",
      "metadata": {
        "id": "526eccdd"
      },
      "source": [
        "## 1. Estructura del Proyecto\n",
        "\n",
        "Cree una carpeta llamada `modelo_regresion_docker` y dentro de ella los siguientes archivos:\n",
        "\n",
        "- `train_model.py` — entrena y guarda el modelo\n",
        "- `app.py` — expone una API para usar el modelo\n",
        "- `requirements.txt` — dependencias del entorno\n",
        "- `Dockerfile` — instrucciones para crear la imagen Docker"
      ]
    },
    {
      "cell_type": "markdown",
      "id": "0f534631",
      "metadata": {
        "id": "0f534631"
      },
      "source": [
        "## 2. Código del modelo (train_model.py)"
      ]
    },
    {
      "cell_type": "code",
      "execution_count": 1,
      "id": "96431de6",
      "metadata": {
        "colab": {
          "base_uri": "https://localhost:8080/"
        },
        "id": "96431de6",
        "outputId": "f53f2acd-1b83-4823-cd4a-beaa32435b67"
      },
      "outputs": [
        {
          "output_type": "stream",
          "name": "stdout",
          "text": [
            "Modelo entrenado y guardado.\n"
          ]
        }
      ],
      "source": [
        "# train_model.py\n",
        "import pandas as pd\n",
        "from sklearn.linear_model import LinearRegression\n",
        "import joblib\n",
        "\n",
        "# Crear dataset simulado\n",
        "X = pd.DataFrame({'horas_estudio': [1, 2, 3, 4, 5]})\n",
        "y = pd.Series([2, 4, 6, 8, 10])  # relación lineal simple\n",
        "\n",
        "# Entrenar modelo\n",
        "modelo = LinearRegression()\n",
        "modelo.fit(X, y)\n",
        "\n",
        "# Guardar modelo\n",
        "joblib.dump(modelo, 'modelo.pkl')\n",
        "print(\"Modelo entrenado y guardado.\")"
      ]
    },
    {
      "cell_type": "markdown",
      "id": "72c80bd6",
      "metadata": {
        "id": "72c80bd6"
      },
      "source": [
        "## 3. API con Flask (app.py)"
      ]
    },
    {
      "cell_type": "code",
      "execution_count": null,
      "id": "afc091f9",
      "metadata": {
        "id": "afc091f9"
      },
      "outputs": [],
      "source": [
        "# app.py\n",
        "from flask import Flask, request, jsonify\n",
        "import joblib\n",
        "import pandas as pd\n",
        "\n",
        "app = Flask(__name__)\n",
        "modelo = joblib.load('modelo.pkl')\n",
        "\n",
        "@app.route('/predecir', methods=['POST'])\n",
        "def predecir():\n",
        "    datos = request.get_json()\n",
        "    df = pd.DataFrame(datos)\n",
        "    predicciones = modelo.predict(df)\n",
        "    return jsonify(predicciones.tolist())\n",
        "\n",
        "if __name__ == '__main__':\n",
        "    app.run(host='0.0.0.0', port=5000)"
      ]
    },
    {
      "cell_type": "markdown",
      "id": "2b97402f",
      "metadata": {
        "id": "2b97402f"
      },
      "source": [
        "## 4. Dependencias del entorno (requirements.txt)"
      ]
    },
    {
      "cell_type": "code",
      "execution_count": null,
      "id": "f4f2785e",
      "metadata": {
        "id": "f4f2785e"
      },
      "outputs": [],
      "source": [
        "flask\n",
        "scikit-learn\n",
        "pandas\n",
        "joblib"
      ]
    },
    {
      "cell_type": "markdown",
      "id": "54aaa9f9",
      "metadata": {
        "id": "54aaa9f9"
      },
      "source": [
        "## 5. Dockerfile"
      ]
    },
    {
      "cell_type": "code",
      "execution_count": null,
      "id": "473889e9",
      "metadata": {
        "id": "473889e9"
      },
      "outputs": [],
      "source": [
        "# Dockerfile\n",
        "FROM python:3.10\n",
        "\n",
        "WORKDIR /app\n",
        "\n",
        "COPY requirements.txt .\n",
        "RUN pip install --no-cache-dir -r requirements.txt\n",
        "\n",
        "COPY . .\n",
        "\n",
        "RUN python train_model.py\n",
        "\n",
        "EXPOSE 5000\n",
        "\n",
        "CMD [\"python\", \"app.py\"]"
      ]
    },
    {
      "cell_type": "markdown",
      "id": "2c58071b",
      "metadata": {
        "id": "2c58071b"
      },
      "source": [
        "## 6. Construcción y ejecución del contenedor Docker"
      ]
    },
    {
      "cell_type": "markdown",
      "id": "7e99bcd5",
      "metadata": {
        "id": "7e99bcd5"
      },
      "source": [
        "### a. Construir la imagen\n",
        "```bash\n",
        "docker build -t modelo_regresion .\n",
        "```\n",
        "\n",
        "### b. Ejecutar el contenedor\n",
        "```bash\n",
        "docker run -p 5000:5000 modelo_regresion\n",
        "```"
      ]
    },
    {
      "cell_type": "markdown",
      "id": "e28a7bec",
      "metadata": {
        "id": "e28a7bec"
      },
      "source": [
        "## 7. Probar la API"
      ]
    },
    {
      "cell_type": "markdown",
      "id": "d3d3b0ab",
      "metadata": {
        "id": "d3d3b0ab"
      },
      "source": [
        "Con `curl` o Postman:\n",
        "\n",
        "```bash\n",
        "docker run -p 5000:5000 modelo_regresion\n",
        "curl -X POST http://localhost:5000/predecir -H \"Content-Type: application/json\" -d \"[{\\\"horas_estudio\\\": 6}]\"\n",
        "```\n",
        "\n",
        "Resultado esperado:\n",
        "```json\n",
        "[12.0]\n",
        "```"
      ]
    },
    {
      "cell_type": "markdown",
      "id": "d75deaa4",
      "metadata": {
        "id": "d75deaa4"
      },
      "source": [
        "## ✅ Conclusión\n",
        "\n",
        "Docker permite empaquetar aplicaciones analíticas asegurando que se ejecuten consistentemente en cualquier entorno, lo cual es útil para el despliegue confiable de modelos de *machine learning* en producción."
      ]
    }
  ],
  "metadata": {
    "colab": {
      "provenance": [],
      "include_colab_link": true
    },
    "language_info": {
      "name": "python"
    },
    "kernelspec": {
      "name": "python3",
      "display_name": "Python 3"
    }
  },
  "nbformat": 4,
  "nbformat_minor": 5
}